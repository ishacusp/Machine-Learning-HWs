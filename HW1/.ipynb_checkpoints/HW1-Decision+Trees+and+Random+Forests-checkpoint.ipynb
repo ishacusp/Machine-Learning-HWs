{
 "cells": [
  {
   "cell_type": "markdown",
   "metadata": {},
   "source": [
    "Total points for this HW: 100.\n",
    "\n",
    "Please note: Copying and pasting other people's work is absolutely prohibited.  Any such cases will be reported to CUSP's education team and severely punished. Discussion is encouraged, and feel free to exchange ideas with your classmates, but please write your own code and do your own work."
   ]
  },
  {
   "cell_type": "markdown",
   "metadata": {
    "collapsed": true
   },
   "source": [
    "### Question 1: Accuracy and interpretability (10 pts)\n",
    "\n",
    "a) Describe a real-world prediction problem using urban data for which _interpretability_ of your models and results is essential, and for which it might be preferable to use decision trees rather than random forests.  Argue why this is the case. (3 pts)"
   ]
  },
  {
   "cell_type": "markdown",
   "metadata": {},
   "source": [
    "#### Decision Trees have high interpretability, and thus is usually used for analytical problems. For example in cases like criminal justice, social analytics, environment analytics (like analyzing air quality), it is important to understand the output as well as the input data really well. In criminal justice, there could be biases in the dataset (biases by race, sex etc.) By using a interpretable model, these biases can be realized and removed from the dataset. Similarly for the social data or environment data, it is usually important to interpret the output in the context of the problem and scenario and relate it to the research literature to be able get a meaningful interpretation out of the output."
   ]
  },
  {
   "cell_type": "markdown",
   "metadata": {},
   "source": [
    "b) Describe a real-world prediction problem using urban data for which _accuracy_ is paramount and interpretability may be less important, and for which it might be preferable to use random forests rather than decision trees.  Argue why this is the case. (3 pts)"
   ]
  },
  {
   "cell_type": "markdown",
   "metadata": {},
   "source": [
    "#### Random forests are used to achieve a high accuracy. In problems like fire risk assessment, traffic mobility, it is important to have high accurate results. For fire risk assessment, it is more important to have accurate prediction of the fire risk (unless one wants to have a False Negative type 2 error and blow up a building or something) than having high interpretability. "
   ]
  },
  {
   "cell_type": "markdown",
   "metadata": {},
   "source": [
    "c) Let's imagine that you want to try to get the best of both worlds (accuracy _and_ interpretability).  So you decide to start by learning a random forest classifier.  Describe at least one way of getting some interpretability out of the model by post-processing.  You could either pick a method from the literature (e.g., Domingos's work on combining multiple models or some method of computing variable importance), or come up with your own approach (doesn't have to be ground-breaking, but feel free to be creative!) (4 pts)"
   ]
  },
  {
   "cell_type": "markdown",
   "metadata": {},
   "source": [
    "#### Diving into a random forest is difficult but not impossible. There are few ways one can do this:\n",
    "\n",
    "1. By permuting the values of each feature one by one and recording the changes in the model performance to compute feature importances.\n",
    "2. By computing gini index for different splitpoints. In the case of Random forest, once can use average of gini index of all the decision trees.\n",
    "3. By using the treeinterpreter (pip install treeinterpreter) library that can decompose scikit-learn‘s decision tree and random forest model predictions (source:https://github.com/andosa/treeinterpreter)\n",
    "\n"
   ]
  },
  {
   "cell_type": "markdown",
   "metadata": {},
   "source": [
    "###  Question 2: Build a decision tree for classification, step by step, following the lecture notes. Note that the dataset has been slightly modified, so you will get a different tree than the one shown in the lecture notes.  (30 points)"
   ]
  },
  {
   "cell_type": "code",
   "execution_count": 1,
   "metadata": {},
   "outputs": [],
   "source": [
    "import pandas as pd\n",
    "import numpy as np"
   ]
  },
  {
   "cell_type": "code",
   "execution_count": 2,
   "metadata": {},
   "outputs": [
    {
     "data": {
      "text/html": [
       "<div>\n",
       "<style>\n",
       "    .dataframe thead tr:only-child th {\n",
       "        text-align: right;\n",
       "    }\n",
       "\n",
       "    .dataframe thead th {\n",
       "        text-align: left;\n",
       "    }\n",
       "\n",
       "    .dataframe tbody tr th {\n",
       "        vertical-align: top;\n",
       "    }\n",
       "</style>\n",
       "<table border=\"1\" class=\"dataframe\">\n",
       "  <thead>\n",
       "    <tr style=\"text-align: right;\">\n",
       "      <th></th>\n",
       "      <th>MPG</th>\n",
       "      <th>cylinders</th>\n",
       "      <th>HP</th>\n",
       "      <th>weight</th>\n",
       "    </tr>\n",
       "  </thead>\n",
       "  <tbody>\n",
       "    <tr>\n",
       "      <th>0</th>\n",
       "      <td>good</td>\n",
       "      <td>4</td>\n",
       "      <td>75</td>\n",
       "      <td>light</td>\n",
       "    </tr>\n",
       "    <tr>\n",
       "      <th>1</th>\n",
       "      <td>bad</td>\n",
       "      <td>6</td>\n",
       "      <td>90</td>\n",
       "      <td>medium</td>\n",
       "    </tr>\n",
       "    <tr>\n",
       "      <th>2</th>\n",
       "      <td>bad</td>\n",
       "      <td>4</td>\n",
       "      <td>110</td>\n",
       "      <td>medium</td>\n",
       "    </tr>\n",
       "    <tr>\n",
       "      <th>3</th>\n",
       "      <td>bad</td>\n",
       "      <td>8</td>\n",
       "      <td>175</td>\n",
       "      <td>weighty</td>\n",
       "    </tr>\n",
       "    <tr>\n",
       "      <th>4</th>\n",
       "      <td>bad</td>\n",
       "      <td>6</td>\n",
       "      <td>95</td>\n",
       "      <td>medium</td>\n",
       "    </tr>\n",
       "    <tr>\n",
       "      <th>5</th>\n",
       "      <td>bad</td>\n",
       "      <td>4</td>\n",
       "      <td>94</td>\n",
       "      <td>light</td>\n",
       "    </tr>\n",
       "    <tr>\n",
       "      <th>6</th>\n",
       "      <td>bad</td>\n",
       "      <td>4</td>\n",
       "      <td>95</td>\n",
       "      <td>light</td>\n",
       "    </tr>\n",
       "    <tr>\n",
       "      <th>7</th>\n",
       "      <td>bad</td>\n",
       "      <td>8</td>\n",
       "      <td>139</td>\n",
       "      <td>weighty</td>\n",
       "    </tr>\n",
       "    <tr>\n",
       "      <th>8</th>\n",
       "      <td>bad</td>\n",
       "      <td>8</td>\n",
       "      <td>190</td>\n",
       "      <td>weighty</td>\n",
       "    </tr>\n",
       "    <tr>\n",
       "      <th>9</th>\n",
       "      <td>bad</td>\n",
       "      <td>8</td>\n",
       "      <td>145</td>\n",
       "      <td>weighty</td>\n",
       "    </tr>\n",
       "    <tr>\n",
       "      <th>10</th>\n",
       "      <td>bad</td>\n",
       "      <td>6</td>\n",
       "      <td>100</td>\n",
       "      <td>medium</td>\n",
       "    </tr>\n",
       "    <tr>\n",
       "      <th>11</th>\n",
       "      <td>good</td>\n",
       "      <td>4</td>\n",
       "      <td>92</td>\n",
       "      <td>medium</td>\n",
       "    </tr>\n",
       "    <tr>\n",
       "      <th>12</th>\n",
       "      <td>bad</td>\n",
       "      <td>6</td>\n",
       "      <td>100</td>\n",
       "      <td>weighty</td>\n",
       "    </tr>\n",
       "    <tr>\n",
       "      <th>13</th>\n",
       "      <td>bad</td>\n",
       "      <td>8</td>\n",
       "      <td>170</td>\n",
       "      <td>weighty</td>\n",
       "    </tr>\n",
       "    <tr>\n",
       "      <th>14</th>\n",
       "      <td>good</td>\n",
       "      <td>4</td>\n",
       "      <td>89</td>\n",
       "      <td>medium</td>\n",
       "    </tr>\n",
       "    <tr>\n",
       "      <th>15</th>\n",
       "      <td>good</td>\n",
       "      <td>4</td>\n",
       "      <td>65</td>\n",
       "      <td>light</td>\n",
       "    </tr>\n",
       "    <tr>\n",
       "      <th>16</th>\n",
       "      <td>bad</td>\n",
       "      <td>6</td>\n",
       "      <td>85</td>\n",
       "      <td>medium</td>\n",
       "    </tr>\n",
       "    <tr>\n",
       "      <th>17</th>\n",
       "      <td>good</td>\n",
       "      <td>4</td>\n",
       "      <td>81</td>\n",
       "      <td>light</td>\n",
       "    </tr>\n",
       "    <tr>\n",
       "      <th>18</th>\n",
       "      <td>bad</td>\n",
       "      <td>6</td>\n",
       "      <td>95</td>\n",
       "      <td>medium</td>\n",
       "    </tr>\n",
       "    <tr>\n",
       "      <th>19</th>\n",
       "      <td>bad</td>\n",
       "      <td>4</td>\n",
       "      <td>93</td>\n",
       "      <td>light</td>\n",
       "    </tr>\n",
       "  </tbody>\n",
       "</table>\n",
       "</div>"
      ],
      "text/plain": [
       "     MPG  cylinders   HP   weight\n",
       "0   good          4   75    light\n",
       "1    bad          6   90   medium\n",
       "2    bad          4  110   medium\n",
       "3    bad          8  175  weighty\n",
       "4    bad          6   95   medium\n",
       "5    bad          4   94    light\n",
       "6    bad          4   95    light\n",
       "7    bad          8  139  weighty\n",
       "8    bad          8  190  weighty\n",
       "9    bad          8  145  weighty\n",
       "10   bad          6  100   medium\n",
       "11  good          4   92   medium\n",
       "12   bad          6  100  weighty\n",
       "13   bad          8  170  weighty\n",
       "14  good          4   89   medium\n",
       "15  good          4   65    light\n",
       "16   bad          6   85   medium\n",
       "17  good          4   81    light\n",
       "18   bad          6   95   medium\n",
       "19   bad          4   93    light"
      ]
     },
     "execution_count": 2,
     "metadata": {},
     "output_type": "execute_result"
    }
   ],
   "source": [
    "try:\n",
    "    from StringIO import StringIO\n",
    "except ImportError:\n",
    "    from io import StringIO\n",
    "    \n",
    "thefile = StringIO('MPG,cylinders,HP,weight\\ngood,4,75,light\\nbad,6,90,medium\\nbad,4,110,medium\\nbad,8,175,weighty\\nbad,6,95,medium\\nbad,4,94,light\\nbad,4,95,light\\nbad,8,139,weighty\\nbad,8,190,weighty\\nbad,8,145,weighty\\nbad,6,100,medium\\ngood,4,92,medium\\nbad,6,100,weighty\\nbad,8,170,weighty\\ngood,4,89,medium\\ngood,4,65,light\\nbad,6,85,medium\\ngood,4,81,light\\nbad,6,95,medium\\nbad,4,93,light')\n",
    "df = pd.read_csv(thefile)\n",
    "df"
   ]
  },
  {
   "cell_type": "markdown",
   "metadata": {},
   "source": [
    "### Please use numpy and pandas to do the computation for parts a) through f).  Do not use an existing decision tree implementation like sklearn for this question."
   ]
  },
  {
   "cell_type": "markdown",
   "metadata": {},
   "source": [
    "a) Start with the entire dataset and find the most common MPG value. (2 pts)"
   ]
  },
  {
   "cell_type": "code",
   "execution_count": 3,
   "metadata": {},
   "outputs": [
    {
     "data": {
      "text/plain": [
       "bad     15\n",
       "good     5\n",
       "Name: MPG, dtype: int64"
      ]
     },
     "execution_count": 3,
     "metadata": {},
     "output_type": "execute_result"
    }
   ],
   "source": [
    "df[\"MPG\"].value_counts()"
   ]
  },
  {
   "cell_type": "code",
   "execution_count": 4,
   "metadata": {},
   "outputs": [
    {
     "name": "stdout",
     "output_type": "stream",
     "text": [
      "the most common MPG value is  bad : 15\n"
     ]
    }
   ],
   "source": [
    "# your code here\n",
    "print(\"the most common MPG value is \", df[\"MPG\"].mode().iloc[0],\":\", max(df[\"MPG\"].value_counts()))"
   ]
  },
  {
   "cell_type": "code",
   "execution_count": 5,
   "metadata": {},
   "outputs": [],
   "source": [
    "def InformationGain(goodY,badY,goodN,badN):\n",
    "    def F(X,Y):\n",
    "        val1 = X*np.log2(1.*(X+Y)/X) if X>0 else 0\n",
    "        val2 = Y*np.log2(1.*(X+Y)/Y) if Y>0 else 0\n",
    "        return val1+val2\n",
    "    return (F(goodY+goodN,badY+badN)-F(goodY,badY)-F(goodN,badN)) / (goodY+goodN+badY+badN)"
   ]
  },
  {
   "cell_type": "markdown",
   "metadata": {},
   "source": [
    "b) Enumerate all the possible binary questions you could ask for each discrete-valued variable.  For each such split, compute the numbers of \"good\" and \"bad\" MPG vehicles in each of the two child nodes, and compute the information gain using the provided function above. (5 pts)"
   ]
  },
  {
   "cell_type": "code",
   "execution_count": 6,
   "metadata": {},
   "outputs": [
    {
     "data": {
      "text/plain": [
       "<bound method Series.unique of 0       light\n",
       "1      medium\n",
       "2      medium\n",
       "3     weighty\n",
       "4      medium\n",
       "5       light\n",
       "6       light\n",
       "7     weighty\n",
       "8     weighty\n",
       "9     weighty\n",
       "10     medium\n",
       "11     medium\n",
       "12    weighty\n",
       "13    weighty\n",
       "14     medium\n",
       "15      light\n",
       "16     medium\n",
       "17      light\n",
       "18     medium\n",
       "19      light\n",
       "Name: weight, dtype: object>"
      ]
     },
     "execution_count": 6,
     "metadata": {},
     "output_type": "execute_result"
    }
   ],
   "source": [
    "# your code here\n",
    "df[\"weight\"].unique"
   ]
  },
  {
   "cell_type": "code",
   "execution_count": 7,
   "metadata": {},
   "outputs": [
    {
     "data": {
      "text/plain": [
       "array(['light', 'medium', 'weighty'], dtype=object)"
      ]
     },
     "execution_count": 7,
     "metadata": {},
     "output_type": "execute_result"
    }
   ],
   "source": [
    "#Function which returns all possible discrete splits\n",
    "def  binary_splits_discrete(df, variable):\n",
    "    '''returns all possible discrete splits'''\n",
    "    return df[variable].unique()\n",
    "\n",
    "weights = binary_splits_discrete(df, 'weight')\n",
    "weights"
   ]
  },
  {
   "cell_type": "code",
   "execution_count": 8,
   "metadata": {},
   "outputs": [
    {
     "data": {
      "text/plain": [
       "array([4, 6, 8])"
      ]
     },
     "execution_count": 8,
     "metadata": {},
     "output_type": "execute_result"
    }
   ],
   "source": [
    "cylinders = binary_splits_discrete(df, 'cylinders')\n",
    "cylinders"
   ]
  },
  {
   "cell_type": "code",
   "execution_count": 9,
   "metadata": {},
   "outputs": [],
   "source": [
    "#Calculating the counts\n",
    "counts_weight_light_good = 0\n",
    "counts_weight_light_bad = 0\n",
    "counts_weight_medium_good = 0\n",
    "counts_weight_medium_bad = 0\n",
    "counts_weight_weighty_good = 0\n",
    "counts_weight_weighty_bad = 0\n",
    "\n",
    "counts_cylinders_4_good = 0\n",
    "counts_cylinders_6_good = 0\n",
    "counts_cylinders_8_good = 0\n",
    "counts_cylinders_4_bad = 0\n",
    "counts_cylinders_6_bad = 0\n",
    "counts_cylinders_8_bad = 0\n",
    "\n",
    "for row in df.index:\n",
    "    if df[\"MPG\"].iloc[row]==\"good\":\n",
    "        if df[\"weight\"].iloc[row] == \"light\":\n",
    "            counts_weight_light_good = counts_weight_light_good +1\n",
    "        elif df[\"weight\"].iloc[row]==\"medium\":\n",
    "            counts_weight_medium_good = counts_weight_medium_good +1\n",
    "        elif df[\"weight\"].iloc[row]==\"weighty\":\n",
    "            counts_weight_weighty_good = counts_weight_weighty_good +1\n",
    "        \n",
    "        if df[\"cylinders\"].iloc[row] == 4:\n",
    "            counts_cylinders_4_good = counts_cylinders_4_good +1\n",
    "        elif df[\"cylinders\"].iloc[row]== 6:\n",
    "            counts_cylinders_6_good = counts_cylinders_6_good +1\n",
    "        elif df[\"cylinders\"].iloc[row]== 8:\n",
    "            counts_cylinders_8_good = counts_cylinders_8_good +1\n",
    "            \n",
    "            \n",
    "    elif df[\"MPG\"].iloc[row]==\"bad\":     \n",
    "        if df[\"weight\"].iloc[row] == \"light\":\n",
    "            counts_weight_light_bad = counts_weight_light_bad +1\n",
    "        elif df[\"weight\"].iloc[row]==\"medium\":\n",
    "            counts_weight_medium_bad = counts_weight_medium_bad +1\n",
    "        elif df[\"weight\"].iloc[row]==\"weighty\":\n",
    "            counts_weight_weighty_bad = counts_weight_weighty_good +1\n",
    "        \n",
    "        if df[\"cylinders\"].iloc[row] == 4:\n",
    "            counts_cylinders_4_bad = counts_cylinders_4_bad +1\n",
    "        elif df[\"cylinders\"].iloc[row] == 6:\n",
    "            counts_cylinders_6_bad = counts_cylinders_6_bad +1 \n",
    "        elif df[\"cylinders\"].iloc[row]== 8:\n",
    "            counts_cylinders_8_bad = counts_cylinders_8_bad +1\n",
    "            \n",
    "        "
   ]
  },
  {
   "cell_type": "code",
   "execution_count": 10,
   "metadata": {},
   "outputs": [
    {
     "name": "stdout",
     "output_type": "stream",
     "text": [
      "Printing Information Gain for discrete variables\n",
      "weight = light: 0.0597731301493\n",
      "weight = medium: 0.025841037527\n",
      "weight = weighty: 0.0406956059619\n",
      "cylinders = 4: 0.365293897532\n",
      "cylinders = 6: 0.15307795339\n",
      "cylinders = 8: 0.122556248918\n"
     ]
    }
   ],
   "source": [
    "print(\"Printing Information Gain for discrete variables\")\n",
    "\n",
    "print(\"weight = light:\",InformationGain(counts_weight_light_good,counts_weight_light_bad,(counts_weight_medium_good +\n",
    "                                        counts_weight_weighty_good),\n",
    "                (counts_weight_medium_bad + counts_weight_weighty_bad)))\n",
    "\n",
    "print(\"weight = medium:\",InformationGain(counts_weight_medium_good,counts_weight_medium_bad,(counts_weight_light_good +\n",
    "                                         counts_weight_weighty_good),\n",
    "                (counts_weight_light_bad + counts_weight_weighty_bad)))\n",
    "\n",
    "print(\"weight = weighty:\",InformationGain(counts_weight_weighty_good,counts_weight_weighty_bad,(counts_weight_medium_good +\n",
    "                                          counts_weight_light_good),\n",
    "                (counts_weight_medium_bad + counts_weight_light_bad)))\n",
    "\n",
    "print(\"cylinders = 4:\",InformationGain(counts_cylinders_4_good,counts_cylinders_4_bad,(counts_cylinders_6_good +\n",
    "                                        counts_cylinders_8_good),\n",
    "                (counts_cylinders_6_bad + counts_cylinders_8_bad )))\n",
    "\n",
    "print(\"cylinders = 6:\",InformationGain(counts_cylinders_6_good,counts_cylinders_6_bad,(counts_cylinders_4_good +\n",
    "                                        counts_cylinders_8_good),\n",
    "                (counts_cylinders_4_bad + counts_cylinders_8_bad )))\n",
    "\n",
    "print(\"cylinders = 8:\",InformationGain(counts_cylinders_8_good,counts_cylinders_8_bad,(counts_cylinders_6_good +\n",
    "                                        counts_cylinders_4_good),\n",
    "                (counts_cylinders_6_bad + counts_cylinders_4_bad)))\n"
   ]
  },
  {
   "cell_type": "code",
   "execution_count": 11,
   "metadata": {},
   "outputs": [
    {
     "name": "stdout",
     "output_type": "stream",
     "text": [
      "5 4 0 11\n"
     ]
    }
   ],
   "source": [
    "print(counts_cylinders_4_good,counts_cylinders_4_bad,(counts_cylinders_6_good +\n",
    "                                        counts_cylinders_8_good),\n",
    "                (counts_cylinders_6_bad + counts_cylinders_8_bad))"
   ]
  },
  {
   "cell_type": "markdown",
   "metadata": {},
   "source": [
    "c) Enumerate all the possible binary questions you could ask for the real-valued variable HP.  For each such split, compute the numbers of \"good\" and \"bad\" MPG vehicles in each of the two child nodes, and compute the information gain using the provided function above. (5 pts) \n",
    "\n",
    "NOTE: if you'd like, you can just use all midpoints between consecutive values of the sorted HP attribute.  You are not required to exclude provably suboptimal questions like we did in the lecture."
   ]
  },
  {
   "cell_type": "code",
   "execution_count": 12,
   "metadata": {},
   "outputs": [
    {
     "data": {
      "text/plain": [
       "16    83.0\n",
       "14    87.0\n",
       "1     89.5\n",
       "11    91.0\n",
       "19    92.5\n",
       "Name: HP, dtype: float64"
      ]
     },
     "execution_count": 12,
     "metadata": {},
     "output_type": "execute_result"
    }
   ],
   "source": [
    "# your code here\n",
    "\n",
    "#Function which returns splits for the continous variable\n",
    "def binary_splits_cont(df, variable):\n",
    "    '''returns continuous splits'''\n",
    "    df = df.sort_values(by=variable)\n",
    "    midpoints = df[variable] - df[variable].diff() / 2\n",
    "    is_target_split = df[\"MPG\"] != df[\"MPG\"].shift()\n",
    "    # get all midpoints between a changing output label\n",
    "    return (midpoints)[is_target_split].dropna()\n",
    "\n",
    "binary_splits_cont(df, 'HP')"
   ]
  },
  {
   "cell_type": "code",
   "execution_count": 13,
   "metadata": {},
   "outputs": [
    {
     "data": {
      "text/html": [
       "<div>\n",
       "<style>\n",
       "    .dataframe thead tr:only-child th {\n",
       "        text-align: right;\n",
       "    }\n",
       "\n",
       "    .dataframe thead th {\n",
       "        text-align: left;\n",
       "    }\n",
       "\n",
       "    .dataframe tbody tr th {\n",
       "        vertical-align: top;\n",
       "    }\n",
       "</style>\n",
       "<table border=\"1\" class=\"dataframe\">\n",
       "  <thead>\n",
       "    <tr style=\"text-align: right;\">\n",
       "      <th></th>\n",
       "      <th>MPG</th>\n",
       "      <th>cylinders</th>\n",
       "      <th>HP</th>\n",
       "      <th>weight</th>\n",
       "    </tr>\n",
       "  </thead>\n",
       "  <tbody>\n",
       "    <tr>\n",
       "      <th>15</th>\n",
       "      <td>good</td>\n",
       "      <td>4</td>\n",
       "      <td>65</td>\n",
       "      <td>light</td>\n",
       "    </tr>\n",
       "    <tr>\n",
       "      <th>0</th>\n",
       "      <td>good</td>\n",
       "      <td>4</td>\n",
       "      <td>75</td>\n",
       "      <td>light</td>\n",
       "    </tr>\n",
       "    <tr>\n",
       "      <th>17</th>\n",
       "      <td>good</td>\n",
       "      <td>4</td>\n",
       "      <td>81</td>\n",
       "      <td>light</td>\n",
       "    </tr>\n",
       "    <tr>\n",
       "      <th>16</th>\n",
       "      <td>bad</td>\n",
       "      <td>6</td>\n",
       "      <td>85</td>\n",
       "      <td>medium</td>\n",
       "    </tr>\n",
       "    <tr>\n",
       "      <th>14</th>\n",
       "      <td>good</td>\n",
       "      <td>4</td>\n",
       "      <td>89</td>\n",
       "      <td>medium</td>\n",
       "    </tr>\n",
       "    <tr>\n",
       "      <th>1</th>\n",
       "      <td>bad</td>\n",
       "      <td>6</td>\n",
       "      <td>90</td>\n",
       "      <td>medium</td>\n",
       "    </tr>\n",
       "    <tr>\n",
       "      <th>11</th>\n",
       "      <td>good</td>\n",
       "      <td>4</td>\n",
       "      <td>92</td>\n",
       "      <td>medium</td>\n",
       "    </tr>\n",
       "    <tr>\n",
       "      <th>19</th>\n",
       "      <td>bad</td>\n",
       "      <td>4</td>\n",
       "      <td>93</td>\n",
       "      <td>light</td>\n",
       "    </tr>\n",
       "    <tr>\n",
       "      <th>5</th>\n",
       "      <td>bad</td>\n",
       "      <td>4</td>\n",
       "      <td>94</td>\n",
       "      <td>light</td>\n",
       "    </tr>\n",
       "    <tr>\n",
       "      <th>18</th>\n",
       "      <td>bad</td>\n",
       "      <td>6</td>\n",
       "      <td>95</td>\n",
       "      <td>medium</td>\n",
       "    </tr>\n",
       "    <tr>\n",
       "      <th>6</th>\n",
       "      <td>bad</td>\n",
       "      <td>4</td>\n",
       "      <td>95</td>\n",
       "      <td>light</td>\n",
       "    </tr>\n",
       "    <tr>\n",
       "      <th>4</th>\n",
       "      <td>bad</td>\n",
       "      <td>6</td>\n",
       "      <td>95</td>\n",
       "      <td>medium</td>\n",
       "    </tr>\n",
       "    <tr>\n",
       "      <th>10</th>\n",
       "      <td>bad</td>\n",
       "      <td>6</td>\n",
       "      <td>100</td>\n",
       "      <td>medium</td>\n",
       "    </tr>\n",
       "    <tr>\n",
       "      <th>12</th>\n",
       "      <td>bad</td>\n",
       "      <td>6</td>\n",
       "      <td>100</td>\n",
       "      <td>weighty</td>\n",
       "    </tr>\n",
       "    <tr>\n",
       "      <th>2</th>\n",
       "      <td>bad</td>\n",
       "      <td>4</td>\n",
       "      <td>110</td>\n",
       "      <td>medium</td>\n",
       "    </tr>\n",
       "    <tr>\n",
       "      <th>7</th>\n",
       "      <td>bad</td>\n",
       "      <td>8</td>\n",
       "      <td>139</td>\n",
       "      <td>weighty</td>\n",
       "    </tr>\n",
       "    <tr>\n",
       "      <th>9</th>\n",
       "      <td>bad</td>\n",
       "      <td>8</td>\n",
       "      <td>145</td>\n",
       "      <td>weighty</td>\n",
       "    </tr>\n",
       "    <tr>\n",
       "      <th>13</th>\n",
       "      <td>bad</td>\n",
       "      <td>8</td>\n",
       "      <td>170</td>\n",
       "      <td>weighty</td>\n",
       "    </tr>\n",
       "    <tr>\n",
       "      <th>3</th>\n",
       "      <td>bad</td>\n",
       "      <td>8</td>\n",
       "      <td>175</td>\n",
       "      <td>weighty</td>\n",
       "    </tr>\n",
       "    <tr>\n",
       "      <th>8</th>\n",
       "      <td>bad</td>\n",
       "      <td>8</td>\n",
       "      <td>190</td>\n",
       "      <td>weighty</td>\n",
       "    </tr>\n",
       "  </tbody>\n",
       "</table>\n",
       "</div>"
      ],
      "text/plain": [
       "     MPG  cylinders   HP   weight\n",
       "15  good          4   65    light\n",
       "0   good          4   75    light\n",
       "17  good          4   81    light\n",
       "16   bad          6   85   medium\n",
       "14  good          4   89   medium\n",
       "1    bad          6   90   medium\n",
       "11  good          4   92   medium\n",
       "19   bad          4   93    light\n",
       "5    bad          4   94    light\n",
       "18   bad          6   95   medium\n",
       "6    bad          4   95    light\n",
       "4    bad          6   95   medium\n",
       "10   bad          6  100   medium\n",
       "12   bad          6  100  weighty\n",
       "2    bad          4  110   medium\n",
       "7    bad          8  139  weighty\n",
       "9    bad          8  145  weighty\n",
       "13   bad          8  170  weighty\n",
       "3    bad          8  175  weighty\n",
       "8    bad          8  190  weighty"
      ]
     },
     "execution_count": 13,
     "metadata": {},
     "output_type": "execute_result"
    }
   ],
   "source": [
    "df.sort_values(by=\"HP\")"
   ]
  },
  {
   "cell_type": "code",
   "execution_count": 14,
   "metadata": {},
   "outputs": [],
   "source": [
    "#Calculating the counts\n",
    "counts_HP_83_good = 0\n",
    "counts_HP_87_good = 0\n",
    "counts_HP_89_5_good = 0\n",
    "counts_HP_91_good = 0\n",
    "counts_HP_92_5_good = 0\n",
    "counts_HP_greaterthan_92_5_good = 0\n",
    "\n",
    "counts_HP_83_bad = 0\n",
    "counts_HP_87_bad = 0\n",
    "counts_HP_89_5_bad = 0\n",
    "counts_HP_91_bad = 0\n",
    "counts_HP_92_5_bad = 0\n",
    "counts_HP_greaterthan_92_5_bad = 0\n",
    "\n",
    "\n",
    "for row in df.index:\n",
    "    if df[\"MPG\"].iloc[row]==\"good\":\n",
    "        if  df[\"HP\"].iloc[row]<= 83.0:\n",
    "            counts_HP_83_good = counts_HP_83_good +1\n",
    "        elif df[\"HP\"].iloc[row]<=87.0:\n",
    "            counts_HP_87_good = counts_HP_87_good +1\n",
    "        elif df[\"HP\"].iloc[row]<=89.5:\n",
    "            counts_HP_89_5_good = counts_HP_89_5_good +1\n",
    "        elif df[\"HP\"].iloc[row]<=91.0:\n",
    "            counts_HP_91_good = counts_HP_91_good +1\n",
    "        elif df[\"HP\"].iloc[row]<=92.5:\n",
    "            counts_HP_92_5_good = counts_HP_92_5_good +1\n",
    "        else: \n",
    "            counts_HP_greaterthan_92_5_good = counts_HP_greaterthan_92_5_good +1\n",
    "            \n",
    "            \n",
    "    elif df[\"MPG\"].iloc[row]==\"bad\":     \n",
    "        if  df[\"HP\"].iloc[row]<= 83.0:\n",
    "            counts_HP_83_bad = counts_HP_83_bad +1\n",
    "        elif df[\"HP\"].iloc[row]<=87.0:\n",
    "            counts_HP_87_bad = counts_HP_87_bad +1\n",
    "        elif df[\"HP\"].iloc[row]<=89.5:\n",
    "            counts_HP_89_5_bad = counts_HP_89_5_bad +1\n",
    "        elif df[\"HP\"].iloc[row]<=91.0:\n",
    "            counts_HP_91_bad = counts_HP_91_bad +1\n",
    "        elif df[\"HP\"].iloc[row]<=92.5:\n",
    "            counts_HP_92_5_bad = counts_HP_92_5_bad +1\n",
    "        else: \n",
    "            counts_HP_greaterthan_92_5_bad = counts_HP_greaterthan_92_5_bad +1"
   ]
  },
  {
   "cell_type": "code",
   "execution_count": 15,
   "metadata": {},
   "outputs": [
    {
     "name": "stdout",
     "output_type": "stream",
     "text": [
      "Printing Information Gain for continous variables\n",
      "HP <= 83.0: 0.367102656103\n",
      "HP <= 87.0: 0.0213774558499\n",
      "HP <= 89.5: 0.105914933394\n",
      "HP <= 91: 0.0213774558499\n",
      "HP <= 92.5: 0.105914933394\n",
      "HP > 92.5: 0.509185925461\n"
     ]
    }
   ],
   "source": [
    "print(\"Printing Information Gain for continous variables\")\n",
    "\n",
    "print(\"HP <= 83.0:\",InformationGain(counts_HP_83_good, counts_HP_83_bad,(counts_HP_87_good +\n",
    "                                        counts_HP_89_5_good + counts_HP_91_good + counts_HP_92_5_good + \n",
    "                                        counts_HP_greaterthan_92_5_good ),\n",
    "                (counts_HP_87_bad + counts_HP_89_5_bad + counts_HP_91_bad + counts_HP_92_5_bad + \n",
    "                                                                         counts_HP_greaterthan_92_5_bad)))\n",
    "\n",
    "print(\"HP <= 87.0:\",InformationGain(counts_HP_87_good, counts_HP_87_bad,(counts_HP_83_good +\n",
    "                                        counts_HP_89_5_good + counts_HP_91_good + counts_HP_92_5_good + \n",
    "                                        counts_HP_greaterthan_92_5_good ),\n",
    "                (counts_HP_83_bad + counts_HP_89_5_bad + counts_HP_91_bad + counts_HP_92_5_bad + \n",
    "                                                                         counts_HP_greaterthan_92_5_bad)))\n",
    "\n",
    "print(\"HP <= 89.5:\",InformationGain(counts_HP_89_5_good, counts_HP_89_5_bad,(counts_HP_87_good +\n",
    "                                        counts_HP_83_good + counts_HP_91_good + counts_HP_92_5_good + \n",
    "                                        counts_HP_greaterthan_92_5_good ),\n",
    "                (counts_HP_87_bad + counts_HP_83_bad + counts_HP_91_bad + counts_HP_92_5_bad + \n",
    "                                                                         counts_HP_greaterthan_92_5_bad)))\n",
    "\n",
    "print(\"HP <= 91:\",InformationGain(counts_HP_91_good, counts_HP_91_bad,(counts_HP_87_good +\n",
    "                                        counts_HP_89_5_good + counts_HP_83_good + counts_HP_92_5_good + \n",
    "                                        counts_HP_greaterthan_92_5_good ),\n",
    "                (counts_HP_87_bad + counts_HP_89_5_bad + counts_HP_83_bad + counts_HP_92_5_bad + \n",
    "                                                                         counts_HP_greaterthan_92_5_bad )))\n",
    "\n",
    "print(\"HP <= 92.5:\",InformationGain(counts_HP_92_5_good, counts_HP_92_5_bad,(counts_HP_87_good +\n",
    "                                        counts_HP_89_5_good + counts_HP_91_good + counts_HP_83_good +\n",
    "                                        counts_HP_greaterthan_92_5_good ),\n",
    "                (counts_HP_87_bad + counts_HP_89_5_bad + counts_HP_91_bad + counts_HP_83_bad + \n",
    "                                                                         counts_HP_greaterthan_92_5_bad )))\n",
    "\n",
    "print(\"HP > 92.5:\",InformationGain(counts_HP_greaterthan_92_5_good, counts_HP_greaterthan_92_5_bad,\n",
    "                                    (counts_HP_87_good + counts_HP_89_5_good + counts_HP_91_good +\n",
    "                                     counts_HP_92_5_good + counts_HP_83_good),\n",
    "                (counts_HP_87_bad + counts_HP_89_5_bad + counts_HP_91_bad + counts_HP_92_5_bad + counts_HP_83_bad )))\n",
    "\n"
   ]
  },
  {
   "cell_type": "markdown",
   "metadata": {},
   "source": [
    "d) Based on your results for parts b and c, what is the optimal binary split of the data?  Of the two child nodes created by this split, which (if any) would require further partitioning? (4 pts)"
   ]
  },
  {
   "cell_type": "markdown",
   "metadata": {},
   "source": [
    "#### Best Split HP >  92.5 for Information Gain = 0.509185925461"
   ]
  },
  {
   "cell_type": "code",
   "execution_count": 16,
   "metadata": {},
   "outputs": [
    {
     "name": "stdout",
     "output_type": "stream",
     "text": [
      "0 13 5 2\n"
     ]
    }
   ],
   "source": [
    "print(counts_HP_greaterthan_92_5_good, counts_HP_greaterthan_92_5_bad,\n",
    "                                    (counts_HP_87_good + counts_HP_89_5_good + counts_HP_91_good +\n",
    "                                     counts_HP_92_5_good + counts_HP_83_good),\n",
    "                (counts_HP_87_bad + counts_HP_89_5_bad + counts_HP_91_bad + counts_HP_92_5_bad + counts_HP_83_bad))"
   ]
  },
  {
   "cell_type": "markdown",
   "metadata": {},
   "source": [
    "#### Since there is 0 good and 13 bad for HP > 92.5 = True, we will stop here (right node). However the left node for  HP > 92.5 = False, required further partitioning (5 good, 2 bad).\n",
    "\n",
    "#### For further split at the left node, we can use cylinders = 4 (cylinders = 4: 0.365293897532)"
   ]
  },
  {
   "cell_type": "markdown",
   "metadata": {},
   "source": [
    "e) Repeat parts a through d until all training data points are perfectly classified by the resulting tree. (6 pts)"
   ]
  },
  {
   "cell_type": "code",
   "execution_count": 17,
   "metadata": {},
   "outputs": [
    {
     "data": {
      "text/html": [
       "<div>\n",
       "<style>\n",
       "    .dataframe thead tr:only-child th {\n",
       "        text-align: right;\n",
       "    }\n",
       "\n",
       "    .dataframe thead th {\n",
       "        text-align: left;\n",
       "    }\n",
       "\n",
       "    .dataframe tbody tr th {\n",
       "        vertical-align: top;\n",
       "    }\n",
       "</style>\n",
       "<table border=\"1\" class=\"dataframe\">\n",
       "  <thead>\n",
       "    <tr style=\"text-align: right;\">\n",
       "      <th></th>\n",
       "      <th>actual</th>\n",
       "      <th>predicted</th>\n",
       "    </tr>\n",
       "  </thead>\n",
       "  <tbody>\n",
       "    <tr>\n",
       "      <th>0</th>\n",
       "      <td>good</td>\n",
       "      <td>good</td>\n",
       "    </tr>\n",
       "    <tr>\n",
       "      <th>1</th>\n",
       "      <td>bad</td>\n",
       "      <td>bad</td>\n",
       "    </tr>\n",
       "    <tr>\n",
       "      <th>2</th>\n",
       "      <td>bad</td>\n",
       "      <td>bad</td>\n",
       "    </tr>\n",
       "    <tr>\n",
       "      <th>3</th>\n",
       "      <td>bad</td>\n",
       "      <td>bad</td>\n",
       "    </tr>\n",
       "    <tr>\n",
       "      <th>4</th>\n",
       "      <td>bad</td>\n",
       "      <td>bad</td>\n",
       "    </tr>\n",
       "    <tr>\n",
       "      <th>5</th>\n",
       "      <td>bad</td>\n",
       "      <td>bad</td>\n",
       "    </tr>\n",
       "    <tr>\n",
       "      <th>6</th>\n",
       "      <td>bad</td>\n",
       "      <td>bad</td>\n",
       "    </tr>\n",
       "    <tr>\n",
       "      <th>7</th>\n",
       "      <td>bad</td>\n",
       "      <td>bad</td>\n",
       "    </tr>\n",
       "    <tr>\n",
       "      <th>8</th>\n",
       "      <td>bad</td>\n",
       "      <td>bad</td>\n",
       "    </tr>\n",
       "    <tr>\n",
       "      <th>9</th>\n",
       "      <td>bad</td>\n",
       "      <td>bad</td>\n",
       "    </tr>\n",
       "    <tr>\n",
       "      <th>10</th>\n",
       "      <td>bad</td>\n",
       "      <td>bad</td>\n",
       "    </tr>\n",
       "    <tr>\n",
       "      <th>11</th>\n",
       "      <td>good</td>\n",
       "      <td>good</td>\n",
       "    </tr>\n",
       "    <tr>\n",
       "      <th>12</th>\n",
       "      <td>bad</td>\n",
       "      <td>bad</td>\n",
       "    </tr>\n",
       "    <tr>\n",
       "      <th>13</th>\n",
       "      <td>bad</td>\n",
       "      <td>bad</td>\n",
       "    </tr>\n",
       "    <tr>\n",
       "      <th>14</th>\n",
       "      <td>good</td>\n",
       "      <td>good</td>\n",
       "    </tr>\n",
       "    <tr>\n",
       "      <th>15</th>\n",
       "      <td>good</td>\n",
       "      <td>good</td>\n",
       "    </tr>\n",
       "    <tr>\n",
       "      <th>16</th>\n",
       "      <td>bad</td>\n",
       "      <td>bad</td>\n",
       "    </tr>\n",
       "    <tr>\n",
       "      <th>17</th>\n",
       "      <td>good</td>\n",
       "      <td>good</td>\n",
       "    </tr>\n",
       "    <tr>\n",
       "      <th>18</th>\n",
       "      <td>bad</td>\n",
       "      <td>bad</td>\n",
       "    </tr>\n",
       "    <tr>\n",
       "      <th>19</th>\n",
       "      <td>bad</td>\n",
       "      <td>bad</td>\n",
       "    </tr>\n",
       "  </tbody>\n",
       "</table>\n",
       "</div>"
      ],
      "text/plain": [
       "   actual predicted\n",
       "0    good      good\n",
       "1     bad       bad\n",
       "2     bad       bad\n",
       "3     bad       bad\n",
       "4     bad       bad\n",
       "5     bad       bad\n",
       "6     bad       bad\n",
       "7     bad       bad\n",
       "8     bad       bad\n",
       "9     bad       bad\n",
       "10    bad       bad\n",
       "11   good      good\n",
       "12    bad       bad\n",
       "13    bad       bad\n",
       "14   good      good\n",
       "15   good      good\n",
       "16    bad       bad\n",
       "17   good      good\n",
       "18    bad       bad\n",
       "19    bad       bad"
      ]
     },
     "execution_count": 17,
     "metadata": {},
     "output_type": "execute_result"
    }
   ],
   "source": [
    "# your code here\n",
    "predicted_class = []\n",
    "for row in df.index:\n",
    "    if df[\"HP\"].iloc[row]>92.5:\n",
    "        predicted_class.append(\"bad\")\n",
    "    else:\n",
    "        if df[\"cylinders\"].iloc[row]==4:\n",
    "            predicted_class.append(\"good\")\n",
    "        else:\n",
    "            predicted_class.append(\"bad\")\n",
    "            \n",
    "pd.DataFrame([\n",
    "    [df[\"MPG\"].iloc[i],predicted_class[i]]\n",
    "    for i in range(20)\n",
    "], columns=['actual', 'predicted'])"
   ]
  },
  {
   "cell_type": "markdown",
   "metadata": {},
   "source": [
    "f) Draw or show the final decision tree in a format of your choice.  The decision to make at each step and the predicted value at each leaf node must be clear. (4 pts)"
   ]
  },
  {
   "cell_type": "markdown",
   "metadata": {},
   "source": [
    "Your answer here."
   ]
  },
  {
   "cell_type": "markdown",
   "metadata": {},
   "source": [
    "![decisiontree](decision_tree.JPG)"
   ]
  },
  {
   "cell_type": "markdown",
   "metadata": {},
   "source": [
    "### Image1: Decision Tree"
   ]
  },
  {
   "cell_type": "markdown",
   "metadata": {},
   "source": [
    "g) Classify each of the following four vehicles as having \"good\" or \"bad\" fuel efficiency (miles per gallon).  Do this by hand using the tree structure learned in part f. (4 pts)\n",
    "\n",
    "?,8,70,light\n",
    "\n",
    "?,6,113,medium\n",
    "\n",
    "?,4,83,weighty\n",
    "\n",
    "?,4,95,weighty\n"
   ]
  },
  {
   "cell_type": "markdown",
   "metadata": {},
   "source": [
    "### Classification on the Test Data\n",
    "\n",
    "1. HP[70]  > 92.5 = False  -> cylinders[8] != 4 -> bad\n",
    "2. HP[113] > 92.5 = True  -> bad\n",
    "3. HP[83]  < 92.5 = False  -> cylinders[4] == 4 -> good\n",
    "4. HP[95]  > 92.5 = True  -> bad             "
   ]
  },
  {
   "cell_type": "markdown",
   "metadata": {},
   "source": [
    "### Question 3, Predicting burden of disease （40 pts)"
   ]
  },
  {
   "cell_type": "code",
   "execution_count": 18,
   "metadata": {
    "scrolled": true
   },
   "outputs": [
    {
     "data": {
      "text/html": [
       "<div>\n",
       "<style>\n",
       "    .dataframe thead tr:only-child th {\n",
       "        text-align: right;\n",
       "    }\n",
       "\n",
       "    .dataframe thead th {\n",
       "        text-align: left;\n",
       "    }\n",
       "\n",
       "    .dataframe tbody tr th {\n",
       "        vertical-align: top;\n",
       "    }\n",
       "</style>\n",
       "<table border=\"1\" class=\"dataframe\">\n",
       "  <thead>\n",
       "    <tr style=\"text-align: right;\">\n",
       "      <th></th>\n",
       "      <th>Country</th>\n",
       "      <th>FrxnPeaceIn10</th>\n",
       "      <th>ODA4H2OPcptaDol</th>\n",
       "      <th>RenewResm3PcptaYr</th>\n",
       "      <th>SustAccImprWatRur</th>\n",
       "      <th>SustAccImprWatUrb</th>\n",
       "      <th>SustAccImprSanRur</th>\n",
       "      <th>SustAccImprSanUrb</th>\n",
       "      <th>TotHlthExpPctofGDP</th>\n",
       "      <th>GenGovtPctofTotHlthExp</th>\n",
       "      <th>ExtResHlthPctTotExpHlth</th>\n",
       "      <th>PCptaGovtExpHlthAvgExcRt</th>\n",
       "      <th>GDPPCptaIntDol</th>\n",
       "      <th>AdultLtrcyRate</th>\n",
       "      <th>FemaleLtrcyRate</th>\n",
       "      <th>BurdenOfDisease</th>\n",
       "    </tr>\n",
       "  </thead>\n",
       "  <tbody>\n",
       "    <tr>\n",
       "      <th>0</th>\n",
       "      <td>Afghanistan</td>\n",
       "      <td>0.1</td>\n",
       "      <td>0.16</td>\n",
       "      <td>2986</td>\n",
       "      <td>0.10891</td>\n",
       "      <td>0.18812</td>\n",
       "      <td>0.049505</td>\n",
       "      <td>0.15842</td>\n",
       "      <td>0.065</td>\n",
       "      <td>0.395</td>\n",
       "      <td>0.4560</td>\n",
       "      <td>4</td>\n",
       "      <td>430</td>\n",
       "      <td>0.35644</td>\n",
       "      <td>0.20792</td>\n",
       "      <td>awful</td>\n",
       "    </tr>\n",
       "    <tr>\n",
       "      <th>1</th>\n",
       "      <td>Albania</td>\n",
       "      <td>1.0</td>\n",
       "      <td>5.58</td>\n",
       "      <td>13306</td>\n",
       "      <td>0.94059</td>\n",
       "      <td>0.98020</td>\n",
       "      <td>0.801980</td>\n",
       "      <td>0.98020</td>\n",
       "      <td>0.065</td>\n",
       "      <td>0.417</td>\n",
       "      <td>0.0340</td>\n",
       "      <td>49</td>\n",
       "      <td>6158</td>\n",
       "      <td>0.85644</td>\n",
       "      <td>0.78713</td>\n",
       "      <td>low</td>\n",
       "    </tr>\n",
       "    <tr>\n",
       "      <th>2</th>\n",
       "      <td>Algeria</td>\n",
       "      <td>0.0</td>\n",
       "      <td>0.33</td>\n",
       "      <td>473</td>\n",
       "      <td>0.79208</td>\n",
       "      <td>0.91089</td>\n",
       "      <td>0.811880</td>\n",
       "      <td>0.98020</td>\n",
       "      <td>0.041</td>\n",
       "      <td>0.808</td>\n",
       "      <td>0.0005</td>\n",
       "      <td>71</td>\n",
       "      <td>4860</td>\n",
       "      <td>0.69307</td>\n",
       "      <td>0.60396</td>\n",
       "      <td>high</td>\n",
       "    </tr>\n",
       "  </tbody>\n",
       "</table>\n",
       "</div>"
      ],
      "text/plain": [
       "       Country  FrxnPeaceIn10  ODA4H2OPcptaDol  RenewResm3PcptaYr  \\\n",
       "0  Afghanistan            0.1             0.16               2986   \n",
       "1      Albania            1.0             5.58              13306   \n",
       "2      Algeria            0.0             0.33                473   \n",
       "\n",
       "   SustAccImprWatRur  SustAccImprWatUrb  SustAccImprSanRur  SustAccImprSanUrb  \\\n",
       "0            0.10891            0.18812           0.049505            0.15842   \n",
       "1            0.94059            0.98020           0.801980            0.98020   \n",
       "2            0.79208            0.91089           0.811880            0.98020   \n",
       "\n",
       "   TotHlthExpPctofGDP  GenGovtPctofTotHlthExp  ExtResHlthPctTotExpHlth  \\\n",
       "0               0.065                   0.395                   0.4560   \n",
       "1               0.065                   0.417                   0.0340   \n",
       "2               0.041                   0.808                   0.0005   \n",
       "\n",
       "   PCptaGovtExpHlthAvgExcRt  GDPPCptaIntDol  AdultLtrcyRate  FemaleLtrcyRate  \\\n",
       "0                         4             430         0.35644          0.20792   \n",
       "1                        49            6158         0.85644          0.78713   \n",
       "2                        71            4860         0.69307          0.60396   \n",
       "\n",
       "  BurdenOfDisease  \n",
       "0           awful  \n",
       "1             low  \n",
       "2            high  "
      ]
     },
     "execution_count": 18,
     "metadata": {},
     "output_type": "execute_result"
    }
   ],
   "source": [
    "data=pd.read_csv(\"Burden of diarrheal illness by country.csv\")\n",
    "data.head(3)"
   ]
  },
  {
   "cell_type": "markdown",
   "metadata": {},
   "source": [
    "### Data dictionary\n",
    "\n",
    "NAME: Burden of diarrheal illness by country\n",
    "\n",
    "SIZE: 130 Countries, 16 Variables\n",
    "\n",
    "VARIABLE DESCRIPTIONS:\n",
    "\n",
    "Country: Country name\n",
    "\n",
    "FrxnPeaceIn10: Fraction of the past ten years in which a country has been at peace \n",
    "\n",
    "ODA4H2OPcptaDol: Per Capita Official Developmental Assistance for water projects\n",
    "\n",
    "RenewResm3PcptaYr: Renewable Water Resources in cubic meters per capita per year\n",
    "\n",
    "SustAccImprWatRur: Fraction of rural population with sustainable access to improved water\n",
    "\n",
    "SustAccImprWatUrb: Fraction of urban population with sustainable access to improved water\n",
    "\n",
    "SustAccImprSanRur: Fraction of rural population with sustainable access to improved sanitation\n",
    "\n",
    "SustAccImprSanUrb: Fraction of urban population with sustainable access to improved sanitation\n",
    "\n",
    "TotHlthExpPctofGDP: Fraction of a country's GDP devoted to health spending\n",
    "\n",
    "GenGovtPctofTotHlthExp: The fraction of total health expenditures for a country which is provided by the government\n",
    "\n",
    "ExtResHlthPctTotExpHlth: The fraction of total health expenditures for a country which is comes from sources external to the country\n",
    "\n",
    "PCptaGovtExpHlthAvgExcRt: Per Capita Government Health Expenditures at the average exchange rate\n",
    "\n",
    "GDPPCptaIntDol: Gross Domestic Product per capita in international dollars\n",
    "\n",
    "AdultLtrcyRate: Adult Literacy rate\n",
    "\n",
    "FemaleLtrcyRate: Female Literacy rate\n",
    "\n",
    "BurdenOfDisease: Our target variable for classification.  The burden of disease due to diarrheal illness, categorized into \"low\", \"medium\", \"high\", and \"awful\" quartiles.  For each country, we have estimates of the number of Disability-Adjusted Life Years lost per 1000 persons per year (DALYs) due to diarrheal illness.  Countries with \"low\" burden of disease have up to 2.75345 DALYs; countries with \"medium\" burden of disease have between 2.75345 and 8.2127 DALYs; countries with \"high\" burden of disease have between 8.2127 and 26.699 DALYs; and countries with \"awful\" burden of diease have more than 26.699 DALYs."
   ]
  },
  {
   "cell_type": "markdown",
   "metadata": {},
   "source": [
    "### Your goal is to train a decision tree classifier for the attribute “BurdenOfDisease\" using all other variables (except country name) as features with sklearn.tree.DecisionTreeClassifier. \n",
    "http://scikit-learn.org/stable/modules/generated/sklearn.tree.DecisionTreeClassifier.html"
   ]
  },
  {
   "cell_type": "markdown",
   "metadata": {},
   "source": [
    "a) Please choose a train/test split and choose a hyper-parameter governing model simplicity, for example, the maximum tree depth or maximum number of leaf nodes. Then, fit your decision tree classifier (using the training set) for different values of this parameter and for each such value, record the corresponding classification accuracy on the test set. (10 pts)"
   ]
  },
  {
   "cell_type": "code",
   "execution_count": 19,
   "metadata": {},
   "outputs": [
    {
     "data": {
      "text/plain": [
       "Index(['Country', 'FrxnPeaceIn10', 'ODA4H2OPcptaDol', 'RenewResm3PcptaYr',\n",
       "       'SustAccImprWatRur', 'SustAccImprWatUrb', 'SustAccImprSanRur',\n",
       "       'SustAccImprSanUrb', 'TotHlthExpPctofGDP', 'GenGovtPctofTotHlthExp',\n",
       "       'ExtResHlthPctTotExpHlth', 'PCptaGovtExpHlthAvgExcRt', 'GDPPCptaIntDol',\n",
       "       'AdultLtrcyRate', 'FemaleLtrcyRate', 'BurdenOfDisease'],\n",
       "      dtype='object')"
      ]
     },
     "execution_count": 19,
     "metadata": {},
     "output_type": "execute_result"
    }
   ],
   "source": [
    "data.columns"
   ]
  },
  {
   "cell_type": "code",
   "execution_count": 20,
   "metadata": {},
   "outputs": [],
   "source": [
    "from sklearn.model_selection import train_test_split\n",
    "from sklearn.tree import DecisionTreeClassifier\n",
    "# remove records with any missing values\n",
    "data=data.dropna()\n",
    "# Let's take \"found.weapon\" as the target variable. \n",
    "y=data[\"BurdenOfDisease\"]\n",
    "X = data.drop([\"Country\",\"BurdenOfDisease\"],axis = 1)\n",
    "\n",
    "# Split data into 70% train, 30% test\n",
    "X_train,X_test,y_train,y_test=train_test_split(X, y, test_size=0.3,random_state=999)\n",
    "accuracy=[]\n",
    "for i in range(2,500,25):\n",
    "    dt=DecisionTreeClassifier(max_leaf_nodes=i)\n",
    "    dt.fit(X_train,y_train)\n",
    "    accuracy.append(dt.score(X_test,y_test))"
   ]
  },
  {
   "cell_type": "code",
   "execution_count": 21,
   "metadata": {},
   "outputs": [
    {
     "data": {
      "text/plain": [
       "[0.33333333333333331,\n",
       " 0.64102564102564108,\n",
       " 0.69230769230769229,\n",
       " 0.64102564102564108,\n",
       " 0.64102564102564108,\n",
       " 0.66666666666666663,\n",
       " 0.64102564102564108,\n",
       " 0.64102564102564108,\n",
       " 0.64102564102564108,\n",
       " 0.64102564102564108,\n",
       " 0.66666666666666663,\n",
       " 0.64102564102564108,\n",
       " 0.64102564102564108,\n",
       " 0.64102564102564108,\n",
       " 0.64102564102564108,\n",
       " 0.64102564102564108,\n",
       " 0.61538461538461542,\n",
       " 0.61538461538461542,\n",
       " 0.64102564102564108,\n",
       " 0.66666666666666663]"
      ]
     },
     "execution_count": 21,
     "metadata": {},
     "output_type": "execute_result"
    }
   ],
   "source": [
    "#hyperparameter is max_leaf_nodes\n",
    "#accuracy for different values of max_leaf_nodes\n",
    "accuracy"
   ]
  },
  {
   "cell_type": "markdown",
   "metadata": {},
   "source": [
    "b) Make a plot of accuracy vs. simplicity for different values of the hyper-parameter chosen in part a). That is, the x-axis should be hyper-parameter value (e.g. tree depth) and the y-axis should be accuracy. (10 pts)"
   ]
  },
  {
   "cell_type": "code",
   "execution_count": 31,
   "metadata": {
    "scrolled": true
   },
   "outputs": [
    {
     "data": {
      "image/png": "[encoded data removed]",
      "text/plain": [
       "<matplotlib.figure.Figure at 0x1a1fc0dfd0>"
      ]
     },
     "metadata": {},
     "output_type": "display_data"
    }
   ],
   "source": [
    "import matplotlib.pylab as plt\n",
    "\n",
    "# your code here\n",
    "plt.figure(figsize=(7,5))\n",
    "plt.plot(range(2,500,25),accuracy)\n",
    "plt.xlabel(\"Max leaf nodes\")\n",
    "plt.ylabel(\"Accuracy\")\n",
    "plt.title(\"Accuracy vs Simplicity (max leaf nodes)\")\n",
    "plt.xlim(2,500)\n",
    "plt.show()"
   ]
  },
  {
   "cell_type": "code",
   "execution_count": null,
   "metadata": {},
   "outputs": [],
   "source": [
    "#Figure 1: The accuracy doesn't really change drastically across different max leaf nodes. It ranges (aprox) from 0.62 to 6.69."
   ]
  },
  {
   "cell_type": "markdown",
   "metadata": {},
   "source": [
    "c) Tune the hyper-parameter you choose in part a) by cross-validation using the training data. You can choose to use the GridSearchCV package from sklearn or write your own code to do cross-validation by spliting the training data into training and validation data. What is the out of sample accuracy after tuning the hyper-parameter? (10 pts)"
   ]
  },
  {
   "cell_type": "code",
   "execution_count": 32,
   "metadata": {},
   "outputs": [
    {
     "name": "stdout",
     "output_type": "stream",
     "text": [
      "{'max_leaf_nodes': 202}\n",
      "The OS accuracy is 0.6410\n"
     ]
    }
   ],
   "source": [
    "#Tuning the tree using max_leaf_nodes\n",
    "\n",
    "from sklearn.model_selection import GridSearchCV\n",
    "from sklearn.metrics import make_scorer\n",
    "from sklearn.metrics import accuracy_score\n",
    "#scoring = {'Accuracy': make_scorer(accuracy_score)}\n",
    "# your code here\n",
    "param_grid = {'max_leaf_nodes':range(2,500,25)}\n",
    "dt1=DecisionTreeClassifier()\n",
    "gr=GridSearchCV(dt1,param_grid=param_grid,scoring='accuracy')\n",
    "os=gr.fit(X_train,y_train)\n",
    "print(os.best_params_)\n",
    "print('The OS accuracy is {:.4f}'.format(accuracy_score(y_test, os.predict(X_test))))"
   ]
  },
  {
   "cell_type": "code",
   "execution_count": 64,
   "metadata": {},
   "outputs": [
    {
     "name": "stdout",
     "output_type": "stream",
     "text": [
      "max_leaf_nodes: 202\n",
      "The OOS accuracy is 0.667\n"
     ]
    }
   ],
   "source": [
    "dt4 = DecisionTreeClassifier(max_leaf_nodes = 202).fit(X_train, y_train)\n",
    "print('max_leaf_nodes: 202')\n",
    "print('The OOS accuracy is {:.3f}'.format(accuracy_score(y_test, dt4.predict(X_test))))"
   ]
  },
  {
   "cell_type": "markdown",
   "metadata": {},
   "source": [
    "d) Visualize a simple decision tree (e.g., with max_depth = 2 or 3) learned from the data.  To do so, given your decision tree dt, you can use the code below, then copy and paste the resulting output into http://www.webgraphviz.com.  Alternatively, if you have graphviz installed on your machine, you can use that. (5 pts)"
   ]
  },
  {
   "cell_type": "code",
   "execution_count": 24,
   "metadata": {
    "scrolled": false
   },
   "outputs": [
    {
     "name": "stdout",
     "output_type": "stream",
     "text": [
      "digraph Tree {\n",
      "node [shape=box, style=\"filled, rounded\", color=\"black\", fontname=helvetica] ;\n",
      "edge [fontname=helvetica] ;\n",
      "0 [label=\"AdultLtrcyRate <= 0.856, samples = 91, value = [17, 25, 26, 23], class = low\", fillcolor=\"#399de504\"] ;\n",
      "1 [label=\"GDPPCptaIntDol <= 1094.0, samples = 48, value = [17, 22, 1, 8], class = high\", fillcolor=\"#47e53929\"] ;\n",
      "0 -> 1 [labeldistance=2.5, labelangle=45, headlabel=\"True\"] ;\n",
      "2 [label=\"samples = 9, value = [9, 0, 0, 0], class = awful\", fillcolor=\"#e58139ff\"] ;\n",
      "1 -> 2 ;\n",
      "3 [label=\"ExtResHlthPctTotExpHlth <= 0.004, samples = 39, value = [8, 22, 1, 8], class = high\", fillcolor=\"#47e53973\"] ;\n",
      "1 -> 3 ;\n",
      "4 [label=\"samples = 6, value = [0, 0, 0, 6], class = medium\", fillcolor=\"#d739e5ff\"] ;\n",
      "3 -> 4 ;\n",
      "5 [label=\"samples = 33, value = [8, 22, 1, 2], class = high\", fillcolor=\"#47e5398f\"] ;\n",
      "3 -> 5 ;\n",
      "6 [label=\"SustAccImprSanUrb <= 0.842, samples = 43, value = [0, 3, 25, 15], class = low\", fillcolor=\"#399de55b\"] ;\n",
      "0 -> 6 [labeldistance=2.5, labelangle=-45, headlabel=\"False\"] ;\n",
      "7 [label=\"GDPPCptaIntDol <= 3206.0, samples = 12, value = [0, 2, 1, 9], class = medium\", fillcolor=\"#d739e5b2\"] ;\n",
      "6 -> 7 ;\n",
      "8 [label=\"samples = 3, value = [0, 2, 1, 0], class = high\", fillcolor=\"#47e5397f\"] ;\n",
      "7 -> 8 ;\n",
      "9 [label=\"samples = 9, value = [0, 0, 0, 9], class = medium\", fillcolor=\"#d739e5ff\"] ;\n",
      "7 -> 9 ;\n",
      "10 [label=\"FemaleLtrcyRate <= 0.866, samples = 31, value = [0, 1, 24, 6], class = low\", fillcolor=\"#399de5b8\"] ;\n",
      "6 -> 10 ;\n",
      "11 [label=\"samples = 5, value = [0, 0, 1, 4], class = medium\", fillcolor=\"#d739e5bf\"] ;\n",
      "10 -> 11 ;\n",
      "12 [label=\"samples = 26, value = [0, 1, 23, 2], class = low\", fillcolor=\"#399de5df\"] ;\n",
      "10 -> 12 ;\n",
      "}\n"
     ]
    }
   ],
   "source": [
    "from sklearn import tree\n",
    "\n",
    "# your code here\n",
    "dt2 = DecisionTreeClassifier(max_depth=3) # just to keep it simple for visualization\n",
    "dt2.fit(X_train,y_train)\n",
    "\n",
    "thestring=tree.export_graphviz(dt2,out_file=None,\n",
    "                         feature_names=X_train.columns.values,  \n",
    "                         class_names=dt2.classes_,  \n",
    "                         filled=True, rounded=True,  \n",
    "                         special_characters=True,impurity=False).replace(\"<br/>\",\", \").replace(\"&le;\",\"<=\").replace(\"=<\",\"=\\\"\").replace(\">,\",\"\\\",\")\n",
    "print(thestring)"
   ]
  },
  {
   "cell_type": "code",
   "execution_count": 25,
   "metadata": {},
   "outputs": [
    {
     "data": {
      "image/png": "[encoded data removed]",
      "text/plain": [
       "<IPython.core.display.Image object>"
      ]
     },
     "execution_count": 25,
     "metadata": {},
     "output_type": "execute_result"
    }
   ],
   "source": [
    "from sklearn import tree\n",
    "from IPython.display import Image  \n",
    "import pydotplus\n",
    "thestring = tree.export_graphviz(dt2, out_file=None,  \n",
    "                         feature_names=X_train.columns.values, \n",
    "                         class_names=dt2.classes_,  \n",
    "                         filled=True, rounded=True,  \n",
    "                         special_characters=True,impurity=False)\n",
    "graph = pydotplus.graph_from_dot_data(thestring)  \n",
    "Image(graph.create_png()) "
   ]
  },
  {
   "cell_type": "markdown",
   "metadata": {},
   "source": [
    "### Image 2: Fitted Decision Tree"
   ]
  },
  {
   "cell_type": "markdown",
   "metadata": {},
   "source": [
    "### Question 4, Fit a random forest to the data from question 3 (20 pts)\n",
    "\n",
    "a) Please use the same test/train split from previous question and feel free to tune the hyper-parameters for Random Forest model using training data. The package from sklearn is here: http://scikit-learn.org/stable/modules/generated/sklearn.ensemble.RandomForestClassifier.html.\n",
    "Then please report your out of sample prediction result and compare this model's performance with 3c). (10 pts)"
   ]
  },
  {
   "cell_type": "code",
   "execution_count": 33,
   "metadata": {},
   "outputs": [
    {
     "name": "stdout",
     "output_type": "stream",
     "text": [
      "The OS accuracy is 0.6667\n"
     ]
    }
   ],
   "source": [
    "from sklearn.ensemble import RandomForestClassifier\n",
    "from sklearn.model_selection import GridSearchCV\n",
    "\n",
    "# your code here\n",
    "# Split data into 70% train, 30% test, same as in question 3\n",
    "rf = RandomForestClassifier(n_estimators=30, n_jobs=-1,max_leaf_nodes=10)\n",
    "rf.fit(X_train, y_train)\n",
    "print('The OS accuracy is {:.4f}'.format(accuracy_score(y_test, rf.predict(X_test))))"
   ]
  },
  {
   "cell_type": "markdown",
   "metadata": {},
   "source": [
    "#### The accuracy improved from 0.6410 in the case of Decision Tree in (3 C while tuning the hypermeter) to 0.6667 using Random Forest here."
   ]
  },
  {
   "cell_type": "code",
   "execution_count": 34,
   "metadata": {},
   "outputs": [],
   "source": [
    "accuracyrf = []\n",
    "for i in range(1,50):\n",
    "    rfnum=RandomForestClassifier(n_estimators=i, n_jobs=-1,max_leaf_nodes=10)\n",
    "    rfnum.fit(X_train,y_train)\n",
    "    accuracyrf.append(rfnum.score(X_test,y_test))\n"
   ]
  },
  {
   "cell_type": "code",
   "execution_count": 35,
   "metadata": {},
   "outputs": [
    {
     "data": {
      "image/png": "[encoded data removed]",
      "text/plain": [
       "<matplotlib.figure.Figure at 0x1a1f9f63c8>"
      ]
     },
     "metadata": {},
     "output_type": "display_data"
    }
   ],
   "source": [
    "#plotting the accuracy versus number of trees graph\n",
    "plt.figure(figsize=(7,5))\n",
    "plt.plot(range(1,50),accuracyrf)\n",
    "plt.xlabel(\"Number of Trees\")\n",
    "plt.ylabel(\"Accuracy\")\n",
    "plt.title(\"Accuracy vs Number of Trees\")\n",
    "plt.xlim(1,50)\n",
    "plt.show()"
   ]
  },
  {
   "cell_type": "markdown",
   "metadata": {},
   "source": [
    "### Figure 2: Here the accuracy of the model fluctuates with change in number of trees. The model perform best ( accuracy = 0.7435) at number of Trees = 29. "
   ]
  },
  {
   "cell_type": "code",
   "execution_count": 46,
   "metadata": {},
   "outputs": [
    {
     "name": "stdout",
     "output_type": "stream",
     "text": [
      "{'max_leaf_nodes': 127}\n",
      "The OS accuracy is 0.6923\n"
     ]
    }
   ],
   "source": [
    "#Using GridSearchCV\n",
    "param_grid = {'max_leaf_nodes':range(2,500,25)}\n",
    "rf1 = RandomForestClassifier(n_estimators=20)\n",
    "gr=GridSearchCV(rf1,param_grid=param_grid,scoring='accuracy')\n",
    "orf=gr.fit(X_train,y_train)\n",
    "print(orf.best_params_)\n",
    "print('The OS accuracy is {:.4f}'.format(accuracy_score(y_test, orf.predict(X_test))))"
   ]
  },
  {
   "cell_type": "code",
   "execution_count": 67,
   "metadata": {},
   "outputs": [
    {
     "name": "stdout",
     "output_type": "stream",
     "text": [
      "max_leaf_nodes: 127\n",
      "The OOS accuracy is 0.718\n"
     ]
    }
   ],
   "source": [
    "rf2 = RandomForestClassifier(n_estimators=20, max_leaf_nodes = 127).fit(X_train, y_train)\n",
    "print('max_leaf_nodes: 127')\n",
    "print('The OOS accuracy is {:.3f}'.format(accuracy_score(y_test, rf2.predict(X_test))))"
   ]
  },
  {
   "cell_type": "markdown",
   "metadata": {},
   "source": [
    "#### The accuracy increased from 0.6667 above to 0.6923 after tuning the max_leaf_nodes. But this is not a huge improvement. It further increased to 0.718 after max_leaf_nodes = 127 is kept."
   ]
  },
  {
   "cell_type": "markdown",
   "metadata": {
    "collapsed": true
   },
   "source": [
    "b) Write one paragraph comparing the results from those two models (Random Forest vs Decision Tree) in terms of both accuracy and interpretability. (10 pts)"
   ]
  },
  {
   "cell_type": "markdown",
   "metadata": {
    "collapsed": true
   },
   "source": [
    "The decision tree has an OS accurcy of 0.6410. This increases to 0.667 when max_leaf_nodes = 202 were taken. The accuracy for Random Forest was intially 0.6667. After tuning the hyperparameter max_lead_nodes, it increased to 0.6923. It further increased to 0.718 when max_leaf_nodes (for random forest model) = 127 was used. The results are quite volatile and thus it is hard to come up with a particular conclusion for both the models. Although the decision tree performs a bit worse, it is easier to visualize and interpret (can be visualized as an Image), specifically if the hyperparameters like max depth, max leaf nodes are kept small. The model performance doesnt really improve a lot in the case of Random forest here, but this is because the model is trained on a small data. The impact of small improvement in the model performance will be seen in the case of bigger data. Random forest cannot be visualized and thus they are quite hard to interpret. However if the output results of Random forest are used to learn a decision tree (that is use the ouput of a complex model and run it on a simple model), both the the accuracy and interpretability can be improved.\n"
   ]
  },
  {
   "cell_type": "markdown",
   "metadata": {},
   "source": []
  }
 ],
 "metadata": {
  "anaconda-cloud": {},
  "celltoolbar": "Raw Cell Format",
  "kernelspec": {
   "display_name": "Python 3",
   "language": "python",
   "name": "python3"
  },
  "language_info": {
   "codemirror_mode": {
    "name": "ipython",
    "version": 3
   },
   "file_extension": ".py",
   "mimetype": "text/x-python",
   "name": "python",
   "nbconvert_exporter": "python",
   "pygments_lexer": "ipython3",
   "version": "3.6.3"
  }
 },
 "nbformat": 4,
 "nbformat_minor": 2
}
